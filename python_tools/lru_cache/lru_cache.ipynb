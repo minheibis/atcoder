{
 "cells": [
  {
   "cell_type": "code",
   "execution_count": 1,
   "metadata": {},
   "outputs": [],
   "source": [
    "from functools import lru_cache"
   ]
  },
  {
   "cell_type": "markdown",
   "metadata": {},
   "source": [
    "# 基本"
   ]
  },
  {
   "cell_type": "markdown",
   "metadata": {},
   "source": [
    "- このデコレータをつけておくと、複数回同じ引数を入れたときに、最初の計算結果を即座に返すようになります。\n",
    "\n",
    "- この例では f(1) を実行すると3秒待った後に 1 が返却されます。このあと再度 f(1) を実行すると、待たずに(内部の処理を実行せずに)1が返ってくることになります。内部に結果を保存する辞書を持っており、引数 1 に対しては 1 を返すという風に実装されているようです。このため渡す引数は hashable なものである必要があります(整数やタプルや集合はOK, リストや辞書はNG)。"
   ]
  },
  {
   "cell_type": "code",
   "execution_count": 19,
   "metadata": {},
   "outputs": [],
   "source": [
    "from functools import lru_cache\n",
    "import time\n",
    "\n",
    "@lru_cache\n",
    "def f(x):\n",
    "    time.sleep(3)\n",
    "    return x"
   ]
  },
  {
   "cell_type": "code",
   "execution_count": 20,
   "metadata": {},
   "outputs": [
    {
     "name": "stdout",
     "output_type": "stream",
     "text": [
      "CPU times: user 1.17 ms, sys: 1.88 ms, total: 3.05 ms\n",
      "Wall time: 3 s\n"
     ]
    },
    {
     "data": {
      "text/plain": [
       "1"
      ]
     },
     "execution_count": 20,
     "metadata": {},
     "output_type": "execute_result"
    }
   ],
   "source": [
    "%%time\n",
    "# 1度目の実行\n",
    "f(1)"
   ]
  },
  {
   "cell_type": "code",
   "execution_count": 21,
   "metadata": {},
   "outputs": [
    {
     "name": "stdout",
     "output_type": "stream",
     "text": [
      "CPU times: user 3 µs, sys: 0 ns, total: 3 µs\n",
      "Wall time: 5.96 µs\n"
     ]
    },
    {
     "data": {
      "text/plain": [
       "1"
      ]
     },
     "execution_count": 21,
     "metadata": {},
     "output_type": "execute_result"
    }
   ],
   "source": [
    "%%time\n",
    "# 2度目の実行\n",
    "f(1)"
   ]
  },
  {
   "cell_type": "code",
   "execution_count": 23,
   "metadata": {},
   "outputs": [
    {
     "data": {
      "text/plain": [
       "CacheInfo(hits=1, misses=1, maxsize=128, currsize=1)"
      ]
     },
     "execution_count": 23,
     "metadata": {},
     "output_type": "execute_result"
    }
   ],
   "source": [
    "f.cache_info()"
   ]
  },
  {
   "cell_type": "markdown",
   "metadata": {},
   "source": [
    "# 競技プログラミングで使う場合"
   ]
  },
  {
   "cell_type": "markdown",
   "metadata": {},
   "source": [
    "## フィボナッチ数列のケース"
   ]
  },
  {
   "cell_type": "code",
   "execution_count": 26,
   "metadata": {},
   "outputs": [],
   "source": [
    "@lru_cache\n",
    "def fib(n):\n",
    "    if n < 2:\n",
    "        return n\n",
    "    return fib(n-1) + fib(n-2)"
   ]
  },
  {
   "cell_type": "code",
   "execution_count": 27,
   "metadata": {},
   "outputs": [
    {
     "name": "stdout",
     "output_type": "stream",
     "text": [
      "1.47 µs ± 52 ns per loop (mean ± std. dev. of 7 runs, 1,000,000 loops each)\n"
     ]
    }
   ],
   "source": [
    "%%timeit\n",
    "[fib(n) for n in range(16)]"
   ]
  },
  {
   "cell_type": "code",
   "execution_count": 28,
   "metadata": {},
   "outputs": [],
   "source": [
    "def fib_no_cache(n):\n",
    "    if n < 2:\n",
    "        return n\n",
    "    return fib_no_cache(n-1) + fib_no_cache(n-2)"
   ]
  },
  {
   "cell_type": "code",
   "execution_count": 30,
   "metadata": {},
   "outputs": [
    {
     "name": "stdout",
     "output_type": "stream",
     "text": [
      "530 µs ± 6.78 µs per loop (mean ± std. dev. of 7 runs, 1,000 loops each)\n"
     ]
    }
   ],
   "source": [
    "%%timeit\n",
    "# 比較用\n",
    "[fib_no_cache(n) for n in range(16)]"
   ]
  },
  {
   "cell_type": "markdown",
   "metadata": {},
   "source": [
    "## ARC135: A - Floor, Ceil - Decomposition"
   ]
  },
  {
   "cell_type": "markdown",
   "metadata": {},
   "source": [
    "https://atcoder.jp/contests/arc135/tasks/arc135_a\n",
    "\n",
    "問題文\n",
    "黒板にひとつの整数 X が書かれています。あなたは次の操作を、何度でも行うことができます（一度も行わなくてもよいです）。\n",
    "\n",
    "黒板に書かれている整数 x をひとつ選ぶ。\n",
    "x をひとつ黒板から消去し、新たに ⌊ \n",
    "2\n",
    "x\n",
    "​\n",
    " ⌋ と ⌈ \n",
    "2\n",
    "x\n",
    "​\n",
    " ⌉ をひとつずつ黒板に書く。\n",
    "操作後の黒板に書かれている整数すべての積としてありうる最大値を、998244353 で割った余りを答えてください。\n",
    "\n",
    "⌊ \n",
    "2\n",
    "x\n",
    "​\n",
    " ⌋，⌈ \n",
    "2\n",
    "x\n",
    "​\n",
    " ⌉ とは？\n",
    "実数 x に対して，x 以下の最大の整数を ⌊x⌋、x 以上の最小の整数を ⌈x⌉ と書きます。したがって例えば以下が成り立ちます。\n",
    "\n",
    "x=2 のとき、⌊ \n",
    "2\n",
    "x\n",
    "​\n",
    " ⌋=1, ⌈ \n",
    "2\n",
    "x\n",
    "​\n",
    " ⌉=1。\n",
    "x=3 のとき、⌊ \n",
    "2\n",
    "x\n",
    "​\n",
    " ⌋=1, ⌈ \n",
    "2\n",
    "x\n",
    "​\n",
    " ⌉=2。"
   ]
  },
  {
   "cell_type": "markdown",
   "metadata": {},
   "source": [
    "### 指針\n",
    "- 基本的な指針としてX<=4ならば、その値そのものが計算結果"
   ]
  },
  {
   "cell_type": "code",
   "execution_count": 49,
   "metadata": {},
   "outputs": [],
   "source": [
    "from functools import lru_cache\n",
    "\n",
    "MOD = 998244353\n",
    "\n",
    "@lru_cache\n",
    "def f_sum(x):\n",
    "    if x <= 4:\n",
    "        return x\n",
    "    x1 = x // 2\n",
    "    x2 = (x + 1) // 2\n",
    "    return f_sum(x1) * f_sum(x2) % MOD\n",
    "\n",
    "# x = int(input())\n",
    "# print(f_sum(x))"
   ]
  },
  {
   "cell_type": "code",
   "execution_count": 50,
   "metadata": {},
   "outputs": [
    {
     "data": {
      "text/plain": [
       "717618935"
      ]
     },
     "execution_count": 50,
     "metadata": {},
     "output_type": "execute_result"
    }
   ],
   "source": [
    "f_sum(123790)"
   ]
  },
  {
   "cell_type": "code",
   "execution_count": null,
   "metadata": {},
   "outputs": [],
   "source": []
  }
 ],
 "metadata": {
  "interpreter": {
   "hash": "aee8b7b246df8f9039afb4144a1f6fd8d2ca17a180786b69acc140d282b71a49"
  },
  "kernelspec": {
   "display_name": "Python 3.9.7 64-bit",
   "language": "python",
   "name": "python3"
  },
  "language_info": {
   "codemirror_mode": {
    "name": "ipython",
    "version": 3
   },
   "file_extension": ".py",
   "mimetype": "text/x-python",
   "name": "python",
   "nbconvert_exporter": "python",
   "pygments_lexer": "ipython3",
   "version": "3.9.7"
  },
  "orig_nbformat": 4
 },
 "nbformat": 4,
 "nbformat_minor": 2
}
