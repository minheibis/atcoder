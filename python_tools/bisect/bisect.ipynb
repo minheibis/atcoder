{
 "cells": [
  {
   "cell_type": "markdown",
   "metadata": {},
   "source": [
    "# 参考ページ\n",
    "- 公式ドキュメント\n",
    "https://docs.python.org/3/library/bisect.html\n",
    "- Python標準ライブラリ：順序維持のbisect\n",
    "https://qiita.com/ta7uw/items/d6d8f0ddb215c3677cd3"
   ]
  },
  {
   "cell_type": "markdown",
   "metadata": {},
   "source": [
    "# 通常のリストでの処理"
   ]
  },
  {
   "cell_type": "code",
   "execution_count": 2,
   "metadata": {},
   "outputs": [
    {
     "name": "stdout",
     "output_type": "stream",
     "text": [
      "[1, 12, 23, 38, 46, 54, 66, 76, 98]\n",
      "CPU times: user 222 µs, sys: 85 µs, total: 307 µs\n",
      "Wall time: 277 µs\n"
     ]
    }
   ],
   "source": [
    "%%time\n",
    "A = [1, 12, 23, 38, 54, 66, 76, 98]\n",
    "A.append(46)\n",
    "A.sort()\n",
    "print(A)"
   ]
  },
  {
   "cell_type": "markdown",
   "metadata": {},
   "source": [
    "# bisectを用いた場合"
   ]
  },
  {
   "cell_type": "code",
   "execution_count": 4,
   "metadata": {},
   "outputs": [],
   "source": [
    "import bisect"
   ]
  },
  {
   "cell_type": "markdown",
   "metadata": {},
   "source": [
    "- bisectには挿入箇所を探索する関数(bisect)と探索と挿入を同時に行う(insort)の主に２つの関数が存在。\n",
    "- bisect系\n",
    "    - bisect_left\n",
    "    - bisect_right\n",
    "    - biscet: bisect_rightのエイリアス\n",
    "- insort系\n",
    "    - insort_left\n",
    "    - insort_right\n",
    "    - insort: insort_rightのエイリアス"
   ]
  },
  {
   "cell_type": "markdown",
   "metadata": {},
   "source": [
    "## bisect_left(a, x, lo=0, hi=len(a))\n",
    "- bisect_leftはソートされたリストaに対して順序を保ったままxを挿入できる箇所を探索します。\n",
    "- leftが示す通り、aにすでにxが存在している場合は、挿入箇所は既存のxよりも左側になります。\n",
    "- また、lo, hiを指定することで探索範囲を絞り込むことも可能です。デフォルトはaの全体が探索対象です。"
   ]
  },
  {
   "cell_type": "code",
   "execution_count": 5,
   "metadata": {},
   "outputs": [
    {
     "name": "stdout",
     "output_type": "stream",
     "text": [
      "[1, 2, 3, 3, 3, 4, 4, 6, 6, 6, 6]\n",
      "2\n",
      "[1, 2, 3, 3, 3, 3, 4, 4, 6, 6, 6, 6]\n"
     ]
    }
   ],
   "source": [
    "A = [1, 2, 3, 3, 3, 4, 4, 6, 6, 6, 6]\n",
    "print(A)\n",
    "\n",
    "index = bisect.bisect_left(A, 3)\n",
    "print(index)\n",
    "# 2 最も左(前)の挿入箇所が返ってきている\n",
    "\n",
    "A.insert(index, 3)\n",
    "print(A)"
   ]
  },
  {
   "cell_type": "code",
   "execution_count": 7,
   "metadata": {},
   "outputs": [
    {
     "name": "stdout",
     "output_type": "stream",
     "text": [
      "2\n"
     ]
    }
   ],
   "source": [
    "# 探索範囲を絞り込む\n",
    "A = [1, 2, 3, 3, 3, 0, 0, 0, 0, 0, 0]\n",
    "\n",
    "index = bisect.bisect_left(A, 3, 0, 5)\n",
    "\n",
    "print(index)# 2"
   ]
  },
  {
   "cell_type": "markdown",
   "metadata": {},
   "source": [
    "## bisect_right\n",
    "bisect_leftのxの挿入箇所が既存のxより右になったもの"
   ]
  },
  {
   "cell_type": "code",
   "execution_count": 9,
   "metadata": {},
   "outputs": [
    {
     "name": "stdout",
     "output_type": "stream",
     "text": [
      "[1, 2, 3, 3, 3, 4, 4, 6, 6, 6, 6]\n",
      "5\n"
     ]
    }
   ],
   "source": [
    "A = [1, 2, 3, 3, 3, 4, 4, 6, 6, 6, 6]\n",
    "print(A)\n",
    "index = bisect.bisect_right(A, 3) # 5\n",
    "print(index)"
   ]
  },
  {
   "cell_type": "markdown",
   "metadata": {},
   "source": [
    "## insort_left(a, x, lo=0, hi=len(a), *, key=None)\n",
    "insort_left(a, x)はa.insert(bisect.bisect_left(a, x))と同じです。つまり、探索を行い、挿入までを行います。"
   ]
  },
  {
   "cell_type": "code",
   "execution_count": 11,
   "metadata": {},
   "outputs": [
    {
     "name": "stdout",
     "output_type": "stream",
     "text": [
      "[1, 2, 3, 3, 3, 3, 4, 4, 6, 6, 6, 6]\n"
     ]
    }
   ],
   "source": [
    "A = [1, 2, 3, 3, 3, 4, 4, 6, 6, 6, 6]\n",
    "bisect.insort_left(A, 3) # [1, 2, 3, 3, 3, 3, 4, 4, 6, 6, 6, 6]\n",
    "print(A)"
   ]
  },
  {
   "cell_type": "markdown",
   "metadata": {},
   "source": [
    "## insort_right\n",
    "insort_right(a, x)はa.insert(bisect.bisect_right(a, x))と同じです。"
   ]
  },
  {
   "cell_type": "markdown",
   "metadata": {},
   "source": [
    "\n",
    "# 例"
   ]
  },
  {
   "cell_type": "markdown",
   "metadata": {},
   "source": [
    "## 最長増加部分列\n",
    "数列 A=a0,a1,…,an−1 の最長増加部分列 (LIS: Longest Increasing Subsequence) の長さを求めてください。 数列 A の増加部分列は 0≤i0<i1<…<ik<n かつ　ai0<ai1<…<aik を満たす部分列 ai0,ai1,…,aik です。最長増加部分列はその中で最も k　が大きいものです。\n",
    "\n",
    "https://judge.u-aizu.ac.jp/onlinejudge/description.jsp?id=DPL_1_D&lang=jp"
   ]
  },
  {
   "cell_type": "code",
   "execution_count": 1,
   "metadata": {},
   "outputs": [],
   "source": [
    "def lis(n, A):\n",
    "    L = [0 for i in range(n + 1)]\n",
    "    L[0] = A[0]\n",
    "    length = 1\n",
    "    for i in range(1, n):\n",
    "        print(L)\n",
    "        if L[length - 1] < A[i]:\n",
    "            L[length] = A[i]\n",
    "            length += 1\n",
    "        else:\n",
    "            index = bisect.bisect_left(L, A[i], 0, length)\n",
    "            L[index] = A[i]\n",
    "    print(L)\n",
    "    return length"
   ]
  },
  {
   "cell_type": "code",
   "execution_count": 2,
   "metadata": {},
   "outputs": [],
   "source": [
    "n = 5\n",
    "A = [5, 1, 3, 2, 4]"
   ]
  },
  {
   "cell_type": "code",
   "execution_count": 3,
   "metadata": {},
   "outputs": [
    {
     "name": "stdout",
     "output_type": "stream",
     "text": [
      "[5, 0, 0, 0, 0, 0]\n"
     ]
    },
    {
     "ename": "NameError",
     "evalue": "name 'bisect' is not defined",
     "output_type": "error",
     "traceback": [
      "\u001b[0;31m---------------------------------------------------------------------------\u001b[0m",
      "\u001b[0;31mNameError\u001b[0m                                 Traceback (most recent call last)",
      "Input \u001b[0;32mIn [3]\u001b[0m, in \u001b[0;36m<module>\u001b[0;34m\u001b[0m\n\u001b[0;32m----> 1\u001b[0m \u001b[43mlis\u001b[49m\u001b[43m(\u001b[49m\u001b[43mn\u001b[49m\u001b[43m,\u001b[49m\u001b[43m \u001b[49m\u001b[43mA\u001b[49m\u001b[43m)\u001b[49m\n",
      "Input \u001b[0;32mIn [1]\u001b[0m, in \u001b[0;36mlis\u001b[0;34m(n, A)\u001b[0m\n\u001b[1;32m      9\u001b[0m         length \u001b[38;5;241m+\u001b[39m\u001b[38;5;241m=\u001b[39m \u001b[38;5;241m1\u001b[39m\n\u001b[1;32m     10\u001b[0m     \u001b[38;5;28;01melse\u001b[39;00m:\n\u001b[0;32m---> 11\u001b[0m         index \u001b[38;5;241m=\u001b[39m \u001b[43mbisect\u001b[49m\u001b[38;5;241m.\u001b[39mbisect_left(L, A[i], \u001b[38;5;241m0\u001b[39m, length)\n\u001b[1;32m     12\u001b[0m         L[index] \u001b[38;5;241m=\u001b[39m A[i]\n\u001b[1;32m     13\u001b[0m \u001b[38;5;28mprint\u001b[39m(L)\n",
      "\u001b[0;31mNameError\u001b[0m: name 'bisect' is not defined"
     ]
    }
   ],
   "source": [
    "lis(n, A)"
   ]
  },
  {
   "cell_type": "markdown",
   "metadata": {},
   "source": [
    "## 成績評価"
   ]
  },
  {
   "cell_type": "code",
   "execution_count": null,
   "metadata": {},
   "outputs": [],
   "source": [
    "def grade(score, breakpoints=[60, 70, 80, 90], grades='FDCBA'):\n",
    "     i = bisect.bisect(breakpoints, score)\n",
    "     return grades[i]\n"
   ]
  },
  {
   "cell_type": "code",
   "execution_count": null,
   "metadata": {},
   "outputs": [
    {
     "data": {
      "text/plain": [
       "['F', 'A', 'C', 'C', 'B', 'A', 'A']"
      ]
     },
     "execution_count": 33,
     "metadata": {},
     "output_type": "execute_result"
    }
   ],
   "source": [
    "[grade(score) for score in [33, 99, 77, 70, 89, 90, 100]]\n",
    "# ['F', 'A', 'C', 'C', 'B', 'A', 'A']"
   ]
  },
  {
   "cell_type": "code",
   "execution_count": null,
   "metadata": {},
   "outputs": [],
   "source": []
  }
 ],
 "metadata": {
  "interpreter": {
   "hash": "aee8b7b246df8f9039afb4144a1f6fd8d2ca17a180786b69acc140d282b71a49"
  },
  "kernelspec": {
   "display_name": "Python 3.9.7 64-bit",
   "language": "python",
   "name": "python3"
  },
  "language_info": {
   "codemirror_mode": {
    "name": "ipython",
    "version": 3
   },
   "file_extension": ".py",
   "mimetype": "text/x-python",
   "name": "python",
   "nbconvert_exporter": "python",
   "pygments_lexer": "ipython3",
   "version": "3.9.7"
  },
  "orig_nbformat": 4
 },
 "nbformat": 4,
 "nbformat_minor": 2
}
