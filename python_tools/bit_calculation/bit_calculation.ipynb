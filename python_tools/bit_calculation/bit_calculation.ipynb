{
 "cells": [
  {
   "cell_type": "code",
   "execution_count": 3,
   "metadata": {},
   "outputs": [
    {
     "data": {
      "text/plain": [
       "5"
      ]
     },
     "execution_count": 3,
     "metadata": {},
     "output_type": "execute_result"
    }
   ],
   "source": [
    "#2進数\n",
    "0b101"
   ]
  },
  {
   "cell_type": "code",
   "execution_count": 4,
   "metadata": {},
   "outputs": [
    {
     "data": {
      "text/plain": [
       "'0b101'"
      ]
     },
     "execution_count": 4,
     "metadata": {},
     "output_type": "execute_result"
    }
   ],
   "source": [
    "# 2真数への変換\n",
    "bin(5)"
   ]
  },
  {
   "cell_type": "code",
   "execution_count": 5,
   "metadata": {},
   "outputs": [
    {
     "data": {
      "text/plain": [
       "'0b10010'"
      ]
     },
     "execution_count": 5,
     "metadata": {},
     "output_type": "execute_result"
    }
   ],
   "source": [
    "# 16進数\n",
    "bin(0x12)"
   ]
  },
  {
   "cell_type": "code",
   "execution_count": 6,
   "metadata": {},
   "outputs": [
    {
     "data": {
      "text/plain": [
       "'0x12'"
      ]
     },
     "execution_count": 6,
     "metadata": {},
     "output_type": "execute_result"
    }
   ],
   "source": [
    "# 16進数に変換\n",
    "hex(0b10010)"
   ]
  },
  {
   "cell_type": "markdown",
   "metadata": {},
   "source": [
    "# シフト"
   ]
  },
  {
   "cell_type": "markdown",
   "metadata": {},
   "source": [
    "演算子<<です。指定した桁だけ左にずらして、空いたビットには0が入ります。\n",
    "\n",
    "右揃えに整形して例を示します。"
   ]
  },
  {
   "cell_type": "code",
   "execution_count": 16,
   "metadata": {},
   "outputs": [
    {
     "name": "stdout",
     "output_type": "stream",
     "text": [
      "i:  0 5<<i 5 bin(5<<i) 0b101\n",
      "i:  0 5>>i 5 bin(5>>i) 0b101\n",
      "i:  1 5<<i 10 bin(5<<i) 0b1010\n",
      "i:  1 5>>i 2 bin(5>>i) 0b10\n",
      "i:  2 5<<i 20 bin(5<<i) 0b10100\n",
      "i:  2 5>>i 1 bin(5>>i) 0b1\n",
      "i:  3 5<<i 40 bin(5<<i) 0b101000\n",
      "i:  3 5>>i 0 bin(5>>i) 0b0\n",
      "i:  4 5<<i 80 bin(5<<i) 0b1010000\n",
      "i:  4 5>>i 0 bin(5>>i) 0b0\n"
     ]
    }
   ],
   "source": [
    "for i in range(5):\n",
    "    print(\"i: \", i, \"5<<i\", 5<<i, \"bin(5<<i)\", bin(5<<i))\n",
    "    print(\"i: \", i, \"5>>i\", 5>>i, \"bin(5>>i)\", bin(5>>i))\n"
   ]
  },
  {
   "cell_type": "markdown",
   "metadata": {},
   "source": [
    "# 論理演算"
   ]
  },
  {
   "cell_type": "code",
   "execution_count": 25,
   "metadata": {},
   "outputs": [
    {
     "name": "stdout",
     "output_type": "stream",
     "text": [
      "bin(5) 0b101\n",
      "bin(6) 0b110\n",
      "bin(5 & 6):  0b100\n",
      "5 & 6:  4\n",
      "bin(5 | 6):  0b111\n",
      "5 | 6:  7\n",
      "bin(5 ^ 6):  0b11\n",
      "5 ^ 6:  3\n"
     ]
    }
   ],
   "source": [
    "print(\"bin(5)\", bin(5))\n",
    "print(\"bin(6)\", bin(6))\n",
    "print(\"bin(5 & 6): \", bin(5 & 6))\n",
    "print(\"5 & 6: \", 5 & 6)\n",
    "\n",
    "print(\"bin(5 | 6): \", bin(5 | 6))\n",
    "print(\"5 | 6: \", 5 | 6)\n",
    "\n",
    "print(\"bin(5 ^ 6): \", bin(5 ^ 6))\n",
    "print(\"5 ^ 6: \", 5 ^ 6)"
   ]
  }
 ],
 "metadata": {
  "interpreter": {
   "hash": "aee8b7b246df8f9039afb4144a1f6fd8d2ca17a180786b69acc140d282b71a49"
  },
  "kernelspec": {
   "display_name": "Python 3.9.7 64-bit",
   "language": "python",
   "name": "python3"
  },
  "language_info": {
   "codemirror_mode": {
    "name": "ipython",
    "version": 3
   },
   "file_extension": ".py",
   "mimetype": "text/x-python",
   "name": "python",
   "nbconvert_exporter": "python",
   "pygments_lexer": "ipython3",
   "version": "3.9.7"
  },
  "orig_nbformat": 4
 },
 "nbformat": 4,
 "nbformat_minor": 2
}
