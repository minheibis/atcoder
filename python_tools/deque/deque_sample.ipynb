{
 "cells": [
  {
   "cell_type": "code",
   "execution_count": 1,
   "metadata": {},
   "outputs": [],
   "source": [
    "from collections import deque"
   ]
  },
  {
   "cell_type": "markdown",
   "metadata": {},
   "source": [
    "Pythonのコンテナデータ型の１種。\n",
    "- データの追加を先頭、末尾両方に対してO(1)のコストで実施できる。\n",
    "- 通常のlistだと先頭に追加する場合にO(n)のコストで実施できる。\n",
    "- 末尾だけでなく先頭にもデータを追加するような場合に役立ちます。\n",
    "- また、回転させることもできる\n"
   ]
  },
  {
   "cell_type": "code",
   "execution_count": 19,
   "metadata": {},
   "outputs": [
    {
     "name": "stdout",
     "output_type": "stream",
     "text": [
      "deque(['a'])\n",
      "deque([['a']])\n",
      "deque([['a'], ['b']])\n",
      "deque([['c'], ['a'], ['b']])\n"
     ]
    }
   ],
   "source": [
    "# 最初はリストにするとその中身が作られてしまう\n",
    "d1 = deque([\"a\"])\n",
    "print(d1)\n",
    "\n",
    "d = deque([[\"a\"]])\n",
    "print(d)\n",
    "\n",
    "d.append([\"b\"])\n",
    "print(d)\n",
    "\n",
    "d.appendleft([\"c\"])\n",
    "print(d)"
   ]
  },
  {
   "cell_type": "markdown",
   "metadata": {},
   "source": [
    "dequeのコピーは浅いコピー"
   ]
  },
  {
   "cell_type": "code",
   "execution_count": 22,
   "metadata": {},
   "outputs": [
    {
     "name": "stdout",
     "output_type": "stream",
     "text": [
      "deque([[1, 2], 2, 3, 4, 5])\n",
      "deque([[1, 2], 2, 3, 4, 5])\n",
      "deque([[1, 2, 3], 2, 3, 4, 5, 6])\n",
      "deque([[1, 2, 3], 2, 3, 4, 5])\n"
     ]
    }
   ],
   "source": [
    "d1 = deque([[1, 2], 2, 3, 4, 5])\n",
    "d2 = d1.copy()\n",
    "\n",
    "print(d1)\n",
    "# -> deque([1, 2, 3, 4, 5])\n",
    "print(d2)\n",
    "# -> deque([1, 2, 3, 4, 5])\n",
    "\n",
    "d1.append(6)\n",
    "d1[0].append(3)\n",
    "\n",
    "print(d1)\n",
    "# -> deque([1, 2, 3, 4, 5, 6])\n",
    "print(d2)\n",
    "# -> deque([1, 2, 3, 4, 5])"
   ]
  },
  {
   "cell_type": "markdown",
   "metadata": {},
   "source": [
    "要素の数え上げ count\n",
    "- deque内の引数に等しい値の数を数える。\n",
    "\n",
    "要素の位置 index\n",
    "- deque内の引数に等しい値の位置を返す。\n",
    "- 見つからない場合は、ValueErrorを発生させる。\n",
    "\n",
    "要素の取り出し pop popleft\n",
    "- pop:dequeの右側の要素を削除して返す。\n",
    "- popleft:dequeの左側の要素を削除して返す。\n",
    "\n",
    "要素の削除 remove\n",
    "- deque内の引数に等しい最初の値を削除する。\n",
    "- 見つからない場合は、ValueErrorを発生させる。\n",
    "\n",
    "要素の反転 reverse\n",
    "- deque内の要素の並びを反転させる。"
   ]
  },
  {
   "cell_type": "code",
   "execution_count": 23,
   "metadata": {},
   "outputs": [
    {
     "name": "stdout",
     "output_type": "stream",
     "text": [
      "deque([1, 2, 5, 3, 4, 5])\n",
      "2\n",
      "1\n",
      "2\n",
      "5\n",
      "5\n",
      "deque([1, 2, 5, 3, 4])\n",
      "1\n",
      "deque([2, 5, 3, 4])\n",
      "deque([2, 3, 4])\n",
      "deque([4, 3, 2])\n"
     ]
    }
   ],
   "source": [
    "from collections import deque\n",
    "\n",
    "d = deque([1, 2, 3, 4, 5])\n",
    "\n",
    "d.insert(2, 5)\n",
    "print(d)\n",
    "# -> deque([1, 2, 5, 3, 4, 5])\n",
    "\n",
    "print(d.count(5))\n",
    "# -> 2\n",
    "\n",
    "print(d.index(2))\n",
    "# -> 1\n",
    "print(d.index(5))\n",
    "# -> 2\n",
    "print(d.index(5, 4, 6))\n",
    "# -> 5\n",
    "\n",
    "print(d.pop())\n",
    "# -> 5\n",
    "print(d)\n",
    "# -> deque([1, 2, 5, 3, 4])\n",
    "print(d.popleft())\n",
    "# -> 1\n",
    "print(d)\n",
    "# -> deque([2, 5, 3, 4])\n",
    "d.remove(5)\n",
    "print(d)\n",
    "# -> deque([2, 3, 4])\n",
    "\n",
    "d.reverse()\n",
    "print(d)\n",
    "# -> deque([4, 3, 2])"
   ]
  },
  {
   "cell_type": "markdown",
   "metadata": {},
   "source": [
    "イテラブルな要素を追加 extend\n",
    "- インテラブルな要素を右側に追加する。\n",
    "\n",
    "イテラブルな要素を左に追加 extendleft\n",
    "- インテラブルな要素を左側に追加する。\n",
    "\n",
    "要素をズラす rotate\n",
    "- 引数の値だけ要素を右に移動する。\n",
    "- 末端を超える要素は先頭に移動する。\n",
    "- 負の数を指定すると左に移動する。"
   ]
  },
  {
   "cell_type": "code",
   "execution_count": 24,
   "metadata": {},
   "outputs": [
    {
     "name": "stdout",
     "output_type": "stream",
     "text": [
      "deque([1, 2, 3, 4, 5, 6, 7, 8, 9])\n",
      "deque([9, 8, 7, 6, 1, 2, 3, 4, 5, 6, 7, 8, 9])\n",
      "deque([9, 9, 8, 7, 6, 1, 2, 3, 4, 5, 6, 7, 8])\n",
      "deque([9, 8, 7, 6, 1, 2, 3, 4, 5, 6, 7, 8, 9])\n",
      "deque([])\n"
     ]
    }
   ],
   "source": [
    "from collections import  deque\n",
    "\n",
    "d = deque([1, 2, 3, 4, 5])\n",
    "li = [6, 7, 8, 9]\n",
    "\n",
    "d.extend(li)\n",
    "print(d)\n",
    "\n",
    "d.extendleft(li)\n",
    "print(d)\n",
    "\n",
    "d.rotate(1)\n",
    "print(d)\n",
    "\n",
    "d.rotate(-1)\n",
    "print(d)\n",
    "\n",
    "d.clear()\n",
    "print(d)"
   ]
  },
  {
   "cell_type": "code",
   "execution_count": null,
   "metadata": {},
   "outputs": [],
   "source": []
  }
 ],
 "metadata": {
  "interpreter": {
   "hash": "aee8b7b246df8f9039afb4144a1f6fd8d2ca17a180786b69acc140d282b71a49"
  },
  "kernelspec": {
   "display_name": "Python 3.9.7 64-bit",
   "language": "python",
   "name": "python3"
  },
  "language_info": {
   "codemirror_mode": {
    "name": "ipython",
    "version": 3
   },
   "file_extension": ".py",
   "mimetype": "text/x-python",
   "name": "python",
   "nbconvert_exporter": "python",
   "pygments_lexer": "ipython3",
   "version": "3.9.7"
  },
  "orig_nbformat": 4
 },
 "nbformat": 4,
 "nbformat_minor": 2
}
