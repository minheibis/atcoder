{
 "cells": [
  {
   "cell_type": "markdown",
   "metadata": {},
   "source": [
    "# 最短経路問題の種類\n",
    "参考：https://qiita.com/saito_ry/items/55cb7473174df0be7621\n",
    "\n",
    "## 2頂点対最短経路問題\n",
    "特定の2つのノード間の最短経路問題。一般的に単一視点最短経路問題のアルゴリズムを使用する。\n",
    "\n",
    "## 単一始点最短経路問題 (SSSP：Single Source Shortest Path)\n",
    "特定の1つのノードから他の全ノードとの間の最短経路問題。\n",
    "\n",
    "アルゴリズム：ダイクストラ法、ベルマン-フォード法\n",
    "\n",
    "## 全点対最短経路問題\n",
    "グラフ内のあらゆる2ノードの組み合わせについての最短経路問題。\n",
    "\n",
    "アルゴリズム：ワーシャル-フロイド法"
   ]
  },
  {
   "cell_type": "markdown",
   "metadata": {},
   "source": [
    "## ワーシャル-フロイド法\n",
    "負の経路がない限り、負の辺があっても使える。グラフ上の全ての頂点間の最短経路を探すので、計算量はVを頂点の集合として、O(V**3)\n"
   ]
  },
  {
   "cell_type": "markdown",
   "metadata": {},
   "source": [
    "### 例題\n",
    "https://atcoder.jp/contests/abc012/tasks/abc012_4"
   ]
  },
  {
   "cell_type": "markdown",
   "metadata": {},
   "source": []
  }
 ],
 "metadata": {
  "kernelspec": {
   "display_name": "Python 3.9.7 ('env_algo': venv)",
   "language": "python",
   "name": "python3"
  },
  "language_info": {
   "name": "python",
   "version": "3.9.7"
  },
  "orig_nbformat": 4,
  "vscode": {
   "interpreter": {
    "hash": "63e1418228fffbb85ac299ed696ab7ef76b818bd5898d34c3ee35a00b39e072e"
   }
  }
 },
 "nbformat": 4,
 "nbformat_minor": 2
}
