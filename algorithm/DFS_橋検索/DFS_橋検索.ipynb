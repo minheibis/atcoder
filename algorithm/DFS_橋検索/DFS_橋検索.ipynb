{
 "cells": [
  {
   "cell_type": "markdown",
   "metadata": {},
   "source": [
    "# 単順にグラフ内で橋となる辺（頂点のペア）を返す実装"
   ]
  },
  {
   "cell_type": "code",
   "execution_count": 3,
   "metadata": {},
   "outputs": [],
   "source": [
    "# https://atcoder.jp/contests/abc075/tasks/abc075_c\n",
    "N, M = 7, 7\n",
    "edges = [\n",
    "    (1, 3),\n",
    "    (2, 7),\n",
    "    (3, 4),\n",
    "    (4, 5),\n",
    "    (4, 6),\n",
    "    (5, 6),\n",
    "    (6, 7),\n",
    "]"
   ]
  },
  {
   "cell_type": "code",
   "execution_count": 4,
   "metadata": {},
   "outputs": [],
   "source": [
    "# 隣接リストの作成\n",
    "G = [[] for _ in range(N)]\n",
    "for i in range(M):\n",
    "    u, v = edges[i][0], edges[i][1]\n",
    "    G[u-1].append(v-1)\n",
    "    G[v-1].append(u-1)"
   ]
  },
  {
   "cell_type": "code",
   "execution_count": 5,
   "metadata": {},
   "outputs": [
    {
     "data": {
      "text/plain": [
       "[[2], [6], [0, 3], [2, 4, 5], [3, 5], [3, 4, 6], [1, 5]]"
      ]
     },
     "execution_count": 5,
     "metadata": {},
     "output_type": "execute_result"
    }
   ],
   "source": [
    "G"
   ]
  },
  {
   "cell_type": "markdown",
   "metadata": {},
   "source": [
    "lowlink を用いた効率的なアルゴリズム：\n",
    "\n",
    "- 適当な頂点から、DFS で以下を計算する\n",
    "- ord[u] : DFS で頂点 u を何番目に探索したか\n",
    "- low[u] : u からの後退辺を高々1回まで用いて到達できる頂点 w について、ord[w] の最小値\n",
    "- 以下の条件を満たす辺 (u,v) が橋(bridge)\n",
    "    - ord[u] < low[v]"
   ]
  },
  {
   "cell_type": "code",
   "execution_count": 27,
   "metadata": {},
   "outputs": [],
   "source": [
    "# G: 隣接リスト\n",
    "# N: 頂点数\n",
    "def bridge(G, N):\n",
    "    result = set() # answer\n",
    "    label = [None] * N # 最初の到達フラグないしは、到達したときの数字\n",
    "    gen = 0 # 到達した時の数字の記入用\n",
    "    cost = [0] * N # lowlingの数字\n",
    "\n",
    "    def dfs(u, p):\n",
    "        # u: start node\n",
    "        # p: parent node\n",
    "        nonlocal gen\n",
    "        res = 0\n",
    "        print(\"u, p, gen, res:\", u, p, gen, res)\n",
    "        for v in G[u]:\n",
    "            print(\"v, p, label, cost, gen: \", v, p, label, cost, gen)\n",
    "            if v == p:\n",
    "                print(\" is parent node\")\n",
    "                continue\n",
    "            if label[v] is not None:\n",
    "                print(\" not first time to visit, backward edge\")\n",
    "                if label[v] < label[u]:\n",
    "                    cost[v] += 1\n",
    "                    res += 1\n",
    "            else:\n",
    "                print(\" first time to visit\")\n",
    "                label[v] = gen\n",
    "                gen += 1\n",
    "                r = dfs(v, u)\n",
    "                if r == 0:\n",
    "                    result.add((u, v) if u < v else (v, u))\n",
    "                res += r\n",
    "        res -= cost[u] # cost from parent to edges\n",
    "        return res\n",
    "\n",
    "    for v in range(N):\n",
    "        print(\"v, gen, label:\", v, gen, label)\n",
    "        # 頂点ごとに処理、ただし、すでに訪れていない場合\n",
    "        # 繋がっている場合には、最初の１回で調べ切ってしまう。\n",
    "        if not label[v]:\n",
    "            label[v] = gen\n",
    "            gen += 1\n",
    "            r = dfs(v, -1)\n",
    "\n",
    "    return result"
   ]
  },
  {
   "cell_type": "code",
   "execution_count": 28,
   "metadata": {},
   "outputs": [
    {
     "name": "stdout",
     "output_type": "stream",
     "text": [
      "v, gen, label: 0 0 [None, None, None, None, None, None, None]\n",
      "u, p, gen, res: 0 -1 1 0\n",
      "v, p, label, cost, gen:  2 -1 [0, None, None, None, None, None, None] [0, 0, 0, 0, 0, 0, 0] 1\n",
      " first time to visit\n",
      "u, p, gen, res: 2 0 2 0\n",
      "v, p, label, cost, gen:  0 0 [0, None, 1, None, None, None, None] [0, 0, 0, 0, 0, 0, 0] 2\n",
      " is parent node\n",
      "v, p, label, cost, gen:  3 0 [0, None, 1, None, None, None, None] [0, 0, 0, 0, 0, 0, 0] 2\n",
      " first time to visit\n",
      "u, p, gen, res: 3 2 3 0\n",
      "v, p, label, cost, gen:  2 2 [0, None, 1, 2, None, None, None] [0, 0, 0, 0, 0, 0, 0] 3\n",
      " is parent node\n",
      "v, p, label, cost, gen:  4 2 [0, None, 1, 2, None, None, None] [0, 0, 0, 0, 0, 0, 0] 3\n",
      " first time to visit\n",
      "u, p, gen, res: 4 3 4 0\n",
      "v, p, label, cost, gen:  3 3 [0, None, 1, 2, 3, None, None] [0, 0, 0, 0, 0, 0, 0] 4\n",
      " is parent node\n",
      "v, p, label, cost, gen:  5 3 [0, None, 1, 2, 3, None, None] [0, 0, 0, 0, 0, 0, 0] 4\n",
      " first time to visit\n",
      "u, p, gen, res: 5 4 5 0\n",
      "v, p, label, cost, gen:  3 4 [0, None, 1, 2, 3, 4, None] [0, 0, 0, 0, 0, 0, 0] 5\n",
      " not first time to visit, backward edge\n",
      "v, p, label, cost, gen:  4 4 [0, None, 1, 2, 3, 4, None] [0, 0, 0, 1, 0, 0, 0] 5\n",
      " is parent node\n",
      "v, p, label, cost, gen:  6 4 [0, None, 1, 2, 3, 4, None] [0, 0, 0, 1, 0, 0, 0] 5\n",
      " first time to visit\n",
      "u, p, gen, res: 6 5 6 0\n",
      "v, p, label, cost, gen:  1 5 [0, None, 1, 2, 3, 4, 5] [0, 0, 0, 1, 0, 0, 0] 6\n",
      " first time to visit\n",
      "u, p, gen, res: 1 6 7 0\n",
      "v, p, label, cost, gen:  6 6 [0, 6, 1, 2, 3, 4, 5] [0, 0, 0, 1, 0, 0, 0] 7\n",
      " is parent node\n",
      "v, p, label, cost, gen:  5 5 [0, 6, 1, 2, 3, 4, 5] [0, 0, 0, 1, 0, 0, 0] 7\n",
      " is parent node\n",
      "v, p, label, cost, gen:  5 2 [0, 6, 1, 2, 3, 4, 5] [0, 0, 0, 1, 0, 0, 0] 7\n",
      " not first time to visit, backward edge\n",
      "v, gen, label: 1 7 [0, 6, 1, 2, 3, 4, 5]\n",
      "v, gen, label: 2 7 [0, 6, 1, 2, 3, 4, 5]\n",
      "v, gen, label: 3 7 [0, 6, 1, 2, 3, 4, 5]\n",
      "v, gen, label: 4 7 [0, 6, 1, 2, 3, 4, 5]\n",
      "v, gen, label: 5 7 [0, 6, 1, 2, 3, 4, 5]\n",
      "v, gen, label: 6 7 [0, 6, 1, 2, 3, 4, 5]\n"
     ]
    }
   ],
   "source": [
    "result = bridge(G, N)"
   ]
  },
  {
   "cell_type": "code",
   "execution_count": 8,
   "metadata": {},
   "outputs": [
    {
     "data": {
      "text/plain": [
       "{(0, 2), (1, 6), (2, 3), (5, 6)}"
      ]
     },
     "execution_count": 8,
     "metadata": {},
     "output_type": "execute_result"
    }
   ],
   "source": [
    "# 確認\n",
    "result"
   ]
  },
  {
   "cell_type": "markdown",
   "metadata": {},
   "source": [
    "\n",
    "# 参考リンク\n",
    "https://medium.com/@yukihira/%E7%84%A1%E5%90%91%E3%82%B0%E3%83%A9%E3%83%95%E3%81%AE-bridge-cut-edge-%E3%82%92%E7%B7%9A%E5%BD%A2%E6%99%82%E9%96%93%E3%81%A7%E6%B1%82%E3%82%81%E3%82%8B-b57d4e5458da"
   ]
  },
  {
   "cell_type": "code",
   "execution_count": null,
   "metadata": {},
   "outputs": [],
   "source": []
  }
 ],
 "metadata": {
  "kernelspec": {
   "display_name": "Python 3.8.10 ('env_algo': venv)",
   "language": "python",
   "name": "python3"
  },
  "language_info": {
   "codemirror_mode": {
    "name": "ipython",
    "version": 3
   },
   "file_extension": ".py",
   "mimetype": "text/x-python",
   "name": "python",
   "nbconvert_exporter": "python",
   "pygments_lexer": "ipython3",
   "version": "3.8.10"
  },
  "orig_nbformat": 4,
  "vscode": {
   "interpreter": {
    "hash": "6140eab83e3ebb4373f498d282de9ac3868fe7d634d9b7acec4fd5c001a91c78"
   }
  }
 },
 "nbformat": 4,
 "nbformat_minor": 2
}
