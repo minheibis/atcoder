{
 "cells": [
  {
   "cell_type": "markdown",
   "metadata": {},
   "source": [
    "# やりたいこと\n",
    "以下の操作を右の計算量でできるデータ構造を実装したい。\n",
    "- 要素xの挿入\tO(logN)\n",
    "- 要素xの削除\tO(logN)\n",
    "- 要素xの検索\tO(logN)\n",
    "- x以上かつ最小の要素を検索\tO(logN)\n",
    "- x未満かつ最大の要素を検索\tO(logN)\n",
    "- k番目の要素を取得\tO(logN)\n",
    "こんなことができるデータ構造がほしい。\n",
    "C++はstd::setやstd::mapが使えてずるい（？）ので、Pythonでも使えるようにする。\n",
    "\n",
    "平衡二分木の一種であるAVL木をPythonで実装してみた。PyPyは再帰が遅いことが知られているので非再帰で実装。以下のページにお世話になった。"
   ]
  },
  {
   "cell_type": "markdown",
   "metadata": {},
   "source": [
    "# 参考リンク\n",
    "\n",
    "https://stnkien.hatenablog.com/entry/avl-tree\n",
    "\n",
    "- 2分木の高さについて\n",
    "https://qiita.com/kamikennn/items/1c8f657779a9998af2df"
   ]
  },
  {
   "cell_type": "code",
   "execution_count": null,
   "metadata": {},
   "outputs": [],
   "source": [
    "\n"
   ]
  }
 ],
 "metadata": {
  "language_info": {
   "name": "python"
  },
  "orig_nbformat": 4
 },
 "nbformat": 4,
 "nbformat_minor": 2
}
