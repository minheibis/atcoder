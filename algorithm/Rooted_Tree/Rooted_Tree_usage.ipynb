{
 "cells": [
  {
   "cell_type": "markdown",
   "metadata": {},
   "source": [
    "# 根付け木"
   ]
  },
  {
   "cell_type": "markdown",
   "metadata": {},
   "source": [
    "参考: https://tech-shelf.hatenablog.com/entry/algorithm/tree\n",
    "\n",
    "根付き木は木の中でも根(root)と呼ばれる他の節点と区別された一つの節点を持つ木の構造のことを言います．\n",
    "根付き木の節点には親子関係があります．rootを基準にそこからつながる節点は子供となり，同じ深さにある節点は兄弟と呼びます．\n",
    "また，子を持たない節点を葉(leaf)や外部節点と呼びます．\n",
    "図を見れば簡単に理解できると思うので載せておきます．"
   ]
  },
  {
   "cell_type": "code",
   "execution_count": null,
   "metadata": {},
   "outputs": [],
   "source": []
  },
  {
   "cell_type": "code",
   "execution_count": null,
   "metadata": {},
   "outputs": [],
   "source": []
  }
 ],
 "metadata": {
  "language_info": {
   "name": "python"
  },
  "orig_nbformat": 4
 },
 "nbformat": 4,
 "nbformat_minor": 2
}
