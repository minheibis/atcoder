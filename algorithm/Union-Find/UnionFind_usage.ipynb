{
 "cells": [
  {
   "cell_type": "markdown",
   "metadata": {},
   "source": [
    "- 参考資料\n",
    "\n",
    "https://note.nkmk.me/python-union-find/"
   ]
  },
  {
   "cell_type": "code",
   "execution_count": 1,
   "metadata": {},
   "outputs": [],
   "source": [
    "%load_ext autoreload\n",
    "%autoreload 2"
   ]
  },
  {
   "cell_type": "code",
   "execution_count": 2,
   "metadata": {},
   "outputs": [],
   "source": [
    "from UnionFind_class import UnionFind \n",
    "from UnionFind_class import UnionFindLabel"
   ]
  },
  {
   "cell_type": "code",
   "execution_count": 3,
   "metadata": {},
   "outputs": [
    {
     "name": "stdout",
     "output_type": "stream",
     "text": [
      "[-1, -1, -1, -1, -1, -1]\n"
     ]
    }
   ],
   "source": [
    "uf = UnionFind(6)\n",
    "print(uf.parents)"
   ]
  },
  {
   "cell_type": "code",
   "execution_count": 4,
   "metadata": {},
   "outputs": [
    {
     "name": "stdout",
     "output_type": "stream",
     "text": [
      "[-2, -1, 0, -1, -1, -1]\n"
     ]
    }
   ],
   "source": [
    "uf.union(0, 2)\n",
    "print(uf.parents)"
   ]
  },
  {
   "cell_type": "code",
   "execution_count": 5,
   "metadata": {},
   "outputs": [
    {
     "name": "stdout",
     "output_type": "stream",
     "text": [
      "0: [0, 2]\n",
      "1: [1]\n",
      "3: [3]\n",
      "4: [4]\n",
      "5: [5]\n"
     ]
    }
   ],
   "source": [
    "print(uf)"
   ]
  },
  {
   "cell_type": "code",
   "execution_count": 6,
   "metadata": {},
   "outputs": [
    {
     "name": "stdout",
     "output_type": "stream",
     "text": [
      "[-2, -2, 0, 1, -1, -1]\n",
      "[-2, -2, 0, 1, -2, 4]\n",
      "[-2, -4, 0, 1, 1, 4]\n"
     ]
    }
   ],
   "source": [
    "uf.union(1, 3)\n",
    "print(uf.parents)\n",
    "uf.union(4, 5)\n",
    "print(uf.parents)\n",
    "uf.union(1, 4)\n",
    "print(uf.parents)"
   ]
  },
  {
   "cell_type": "code",
   "execution_count": 7,
   "metadata": {},
   "outputs": [
    {
     "name": "stdout",
     "output_type": "stream",
     "text": [
      "0: [0, 2]\n",
      "1: [1, 3, 4, 5]\n"
     ]
    }
   ],
   "source": [
    "print(uf)"
   ]
  },
  {
   "cell_type": "code",
   "execution_count": 8,
   "metadata": {},
   "outputs": [
    {
     "name": "stdout",
     "output_type": "stream",
     "text": [
      "0\n",
      "1\n",
      "2\n",
      "4\n",
      "True\n",
      "False\n",
      "[0, 2]\n",
      "[1, 3, 4, 5]\n",
      "[0, 1]\n",
      "2\n",
      "defaultdict(<class 'list'>, {0: [0, 2], 1: [1, 3, 4, 5]})\n",
      "[[0, 2], [1, 3, 4, 5]]\n"
     ]
    }
   ],
   "source": [
    "print(uf.find(0))\n",
    "\n",
    "print(uf.find(5))\n",
    "\n",
    "print(uf.size(0))\n",
    "\n",
    "print(uf.size(5))\n",
    "\n",
    "print(uf.same(0, 2))\n",
    "\n",
    "print(uf.same(0, 5))\n",
    "\n",
    "print(uf.members(0))\n",
    "\n",
    "print(uf.members(5))\n",
    "\n",
    "print(uf.roots())\n",
    "\n",
    "print(uf.group_count())\n",
    "\n",
    "print(uf.all_group_members())\n",
    "\n",
    "print(list(uf.all_group_members().values()))"
   ]
  },
  {
   "cell_type": "markdown",
   "metadata": {},
   "source": [
    "# 文字列とのペアの場合のテスト"
   ]
  },
  {
   "cell_type": "code",
   "execution_count": 9,
   "metadata": {},
   "outputs": [],
   "source": [
    "country_list = [\"Angola\", \"Botusana\", \"Canada\", \"Denmark\", \"England\"]"
   ]
  },
  {
   "cell_type": "code",
   "execution_count": 10,
   "metadata": {},
   "outputs": [
    {
     "name": "stdout",
     "output_type": "stream",
     "text": [
      "{'Angola': 0, 'Botusana': 1, 'Canada': 2, 'Denmark': 3, 'England': 4}\n",
      "{0: 'Angola', 1: 'Botusana', 2: 'Canada', 3: 'Denmark', 4: 'England'}\n"
     ]
    }
   ],
   "source": [
    "d = {x: i for i, x in enumerate(country_list)}\n",
    "print(d)\n",
    "d_inv = {i: x for i, x in enumerate(country_list)}\n",
    "print(d_inv)"
   ]
  },
  {
   "cell_type": "code",
   "execution_count": 11,
   "metadata": {},
   "outputs": [
    {
     "name": "stdout",
     "output_type": "stream",
     "text": [
      "0: [0]\n",
      "1: [1]\n",
      "2: [2]\n",
      "3: [3]\n",
      "4: [4]\n"
     ]
    }
   ],
   "source": [
    "uf_country = UnionFind(len(country_list))\n",
    "print(uf_country)"
   ]
  },
  {
   "cell_type": "code",
   "execution_count": 12,
   "metadata": {},
   "outputs": [
    {
     "name": "stdout",
     "output_type": "stream",
     "text": [
      "0: [0, 2, 3]\n",
      "4: [1, 4]\n"
     ]
    }
   ],
   "source": [
    "uf_country.union(d[\"Angola\"], d[\"Denmark\"])\n",
    "uf_country.union(d[\"Canada\"], d[\"Denmark\"])\n",
    "uf_country.union(d[\"England\"], d[\"Botusana\"])\n",
    "print(uf_country)"
   ]
  },
  {
   "cell_type": "code",
   "execution_count": 13,
   "metadata": {},
   "outputs": [
    {
     "name": "stdout",
     "output_type": "stream",
     "text": [
      "Angola\n"
     ]
    }
   ],
   "source": [
    "print(d_inv[uf_country.find(d[\"Denmark\"])])"
   ]
  },
  {
   "cell_type": "code",
   "execution_count": 14,
   "metadata": {},
   "outputs": [
    {
     "name": "stdout",
     "output_type": "stream",
     "text": [
      "3\n"
     ]
    }
   ],
   "source": [
    "print(uf_country.size(d[\"Denmark\"]))"
   ]
  },
  {
   "cell_type": "code",
   "execution_count": 15,
   "metadata": {},
   "outputs": [
    {
     "name": "stdout",
     "output_type": "stream",
     "text": [
      "True\n"
     ]
    }
   ],
   "source": [
    "print(uf_country.same(d[\"Angola\"], d[\"Denmark\"]))"
   ]
  },
  {
   "cell_type": "code",
   "execution_count": 16,
   "metadata": {},
   "outputs": [
    {
     "name": "stdout",
     "output_type": "stream",
     "text": [
      "['Angola', 'Canada', 'Denmark']\n",
      "['Angola', 'England']\n",
      "2\n"
     ]
    }
   ],
   "source": [
    "print([d_inv[i] for i in uf_country.members(d['Denmark'])])\n",
    "# ['A', 'C', 'D']\n",
    "\n",
    "print([d_inv[i] for i in uf_country.roots()])\n",
    "# ['A', 'E']\n",
    "\n",
    "print(uf_country.group_count())\n",
    "# 2"
   ]
  },
  {
   "cell_type": "code",
   "execution_count": 17,
   "metadata": {},
   "outputs": [],
   "source": [
    "l = [\"A\", \"B\", \"C\", \"D\", \"E\"]"
   ]
  },
  {
   "cell_type": "code",
   "execution_count": 18,
   "metadata": {},
   "outputs": [
    {
     "name": "stdout",
     "output_type": "stream",
     "text": [
      "A: ['A']\n",
      "B: ['B']\n",
      "C: ['C']\n",
      "D: ['D']\n",
      "E: ['E']\n"
     ]
    }
   ],
   "source": [
    "ufl = UnionFindLabel(l)\n",
    "print(ufl)"
   ]
  },
  {
   "cell_type": "code",
   "execution_count": 19,
   "metadata": {},
   "outputs": [],
   "source": [
    "ufl.union(\"A\", \"D\")\n",
    "ufl.union(\"C\", \"D\")\n",
    "ufl.union(\"E\", \"B\")"
   ]
  },
  {
   "cell_type": "code",
   "execution_count": 20,
   "metadata": {},
   "outputs": [
    {
     "name": "stdout",
     "output_type": "stream",
     "text": [
      "A: ['A', 'C', 'D']\n",
      "E: ['B', 'E']\n"
     ]
    }
   ],
   "source": [
    "print(ufl)"
   ]
  },
  {
   "cell_type": "code",
   "execution_count": 21,
   "metadata": {},
   "outputs": [
    {
     "name": "stdout",
     "output_type": "stream",
     "text": [
      "A\n",
      "3\n",
      "True\n",
      "['A', 'C', 'D']\n",
      "['A', 'E']\n",
      "2\n",
      "defaultdict(<class 'list'>, {'A': ['A', 'C', 'D'], 'E': ['B', 'E']})\n"
     ]
    }
   ],
   "source": [
    "print(ufl.find_label(\"D\"))\n",
    "print(ufl.size(\"D\"))\n",
    "print(ufl.same(\"A\", \"D\"))\n",
    "print(ufl.members(\"D\"))\n",
    "print(ufl.roots())\n",
    "print(ufl.group_count())\n",
    "print(ufl.all_group_members())"
   ]
  },
  {
   "cell_type": "code",
   "execution_count": 22,
   "metadata": {},
   "outputs": [
    {
     "name": "stdout",
     "output_type": "stream",
     "text": [
      "1: [1]\n",
      "2: [2]\n",
      "3: [3]\n",
      "4: [4]\n",
      "5: [5]\n",
      "1: [1, 3, 4]\n",
      "5: [2, 5]\n"
     ]
    }
   ],
   "source": [
    "ufl_n = UnionFindLabel([1, 2, 3, 4, 5])\n",
    "print(ufl_n)\n",
    "# 1: [1]\n",
    "# 2: [2]\n",
    "# 3: [3]\n",
    "# 4: [4]\n",
    "# 5: [5]\n",
    "\n",
    "ufl_n.union(1, 4)\n",
    "ufl_n.union(4, 3)\n",
    "ufl_n.union(5, 2)\n",
    "print(ufl_n)\n",
    "# 1: [1, 3, 4]\n",
    "# 5: [2, 5]"
   ]
  },
  {
   "cell_type": "markdown",
   "metadata": {},
   "source": [
    "# 座標管理"
   ]
  },
  {
   "cell_type": "code",
   "execution_count": 23,
   "metadata": {},
   "outputs": [
    {
     "name": "stdout",
     "output_type": "stream",
     "text": [
      "(0, 0): [(0, 0)]\n",
      "(0, 1): [(0, 1)]\n",
      "(1, 0): [(1, 0)]\n",
      "(1, 1): [(1, 1)]\n",
      "(0, 1): [(0, 0), (0, 1), (1, 0)]\n",
      "(1, 1): [(1, 1)]\n",
      "True\n"
     ]
    }
   ],
   "source": [
    "ufl_t = UnionFindLabel([(0, 0), (0, 1), (1, 0), (1,1)])\n",
    "print(ufl_t)\n",
    "# (0, 0): [(0, 0)]\n",
    "# (0, 1): [(0, 1)]\n",
    "# (1, 0): [(1, 0)]\n",
    "# (1, 1): [(1, 1)]\n",
    "\n",
    "ufl_t.union((0, 1), (1, 0))\n",
    "ufl_t.union((0, 0), (1, 0))\n",
    "print(ufl_t)\n",
    "# (0, 1): [(0, 0), (0, 1), (1, 0)]\n",
    "# (1, 1): [(1, 1)]\n",
    "\n",
    "print(ufl_t.same((0, 1), (0, 0)))\n",
    "# True"
   ]
  },
  {
   "cell_type": "code",
   "execution_count": null,
   "metadata": {},
   "outputs": [],
   "source": []
  }
 ],
 "metadata": {
  "interpreter": {
   "hash": "aee8b7b246df8f9039afb4144a1f6fd8d2ca17a180786b69acc140d282b71a49"
  },
  "kernelspec": {
   "display_name": "Python 3.9.7 64-bit",
   "language": "python",
   "name": "python3"
  },
  "language_info": {
   "codemirror_mode": {
    "name": "ipython",
    "version": 3
   },
   "file_extension": ".py",
   "mimetype": "text/x-python",
   "name": "python",
   "nbconvert_exporter": "python",
   "pygments_lexer": "ipython3",
   "version": "3.9.7"
  },
  "orig_nbformat": 4
 },
 "nbformat": 4,
 "nbformat_minor": 2
}
