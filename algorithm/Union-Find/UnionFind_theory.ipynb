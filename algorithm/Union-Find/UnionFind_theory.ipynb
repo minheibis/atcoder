{
 "cells": [
  {
   "cell_type": "code",
   "execution_count": 2,
   "metadata": {},
   "outputs": [],
   "source": [
    "from collections import defaultdict"
   ]
  },
  {
   "cell_type": "markdown",
   "metadata": {},
   "source": [
    "素朴な実装"
   ]
  },
  {
   "cell_type": "code",
   "execution_count": 6,
   "metadata": {},
   "outputs": [],
   "source": [
    "class UnionFindBasic():\n",
    "    def __init__(self, n):\n",
    "        self.parents = list(range(n))\n",
    "\n",
    "    def find(self, x):\n",
    "        if self.parents[x] == x:\n",
    "            return x\n",
    "        else:\n",
    "            return self.find(self.parents[x])\n",
    "\n",
    "    def union(self, x, y):\n",
    "        x = self.find(x)\n",
    "        y = self.find(y)\n",
    "\n",
    "        if x == y:\n",
    "            return\n",
    "\n",
    "        self.parents[y] = x"
   ]
  },
  {
   "cell_type": "code",
   "execution_count": 7,
   "metadata": {},
   "outputs": [
    {
     "name": "stdout",
     "output_type": "stream",
     "text": [
      "[0, 1, 2, 3, 4]\n"
     ]
    }
   ],
   "source": [
    "ufb = UnionFindBasic(5)\n",
    "print(ufb.parents)\n",
    "# [0, 1, 2, 3, 4]"
   ]
  },
  {
   "cell_type": "code",
   "execution_count": 8,
   "metadata": {},
   "outputs": [
    {
     "name": "stdout",
     "output_type": "stream",
     "text": [
      "[0, 1, 2, 3, 3]\n",
      "[0, 1, 2, 2, 3]\n",
      "[0, 1, 1, 2, 3]\n",
      "[0, 0, 1, 2, 3]\n",
      "[0, 0, 0, 0, 0]\n"
     ]
    }
   ],
   "source": [
    "ufb.union(3, 4)\n",
    "print(ufb.parents)\n",
    "ufb.union(2, 3)\n",
    "print(ufb.parents)\n",
    "ufb.union(1, 2)\n",
    "print(ufb.parents)\n",
    "ufb.union(0, 4)\n",
    "print(ufb.parents)\n",
    "# [0, 1, 2, 3, 3]\n",
    "# [0, 1, 2, 2, 3]\n",
    "# [0, 1, 1, 2, 3]\n",
    "# [0, 0, 1, 2, 3]\n",
    "\n",
    "print([ufb.find(i) for i in range(5)])\n",
    "# [0, 0, 0, 0, 0]"
   ]
  },
  {
   "cell_type": "markdown",
   "metadata": {},
   "source": [
    "# 経路圧縮\n",
    "find()で調べる際に、調べた要素の親を根に変更して繋ぎ直す"
   ]
  },
  {
   "cell_type": "code",
   "execution_count": 9,
   "metadata": {},
   "outputs": [],
   "source": [
    "class UnionFindPathCompression():\n",
    "    def __init__(self, n):\n",
    "        self.parents = list(range(n))\n",
    "    \n",
    "    def find(self, x):\n",
    "        if self.parents[x] == x:\n",
    "            return x\n",
    "        else:\n",
    "            self.parents[x] = self.find(self.parents[x])\n",
    "            return self.parents[x]\n",
    "    \n",
    "    def union(self, x, y):\n",
    "        x = self.find(x)\n",
    "        y = self.find(y)\n",
    "\n",
    "        if x == y:\n",
    "            return\n",
    "\n",
    "        self.parents[y] = x"
   ]
  },
  {
   "cell_type": "code",
   "execution_count": 10,
   "metadata": {},
   "outputs": [
    {
     "name": "stdout",
     "output_type": "stream",
     "text": [
      "[0, 1, 2, 3, 4]\n",
      "[0, 1, 2, 3, 3]\n",
      "[0, 1, 2, 2, 3]\n",
      "[0, 1, 1, 2, 3]\n",
      "[0, 0, 1, 1, 1]\n",
      "[0, 0, 0, 0, 0]\n"
     ]
    }
   ],
   "source": [
    "ufpc = UnionFindPathCompression(5)\n",
    "print(ufpc.parents)\n",
    "# [0, 1, 2, 3, 4]\n",
    "\n",
    "ufpc.union(3, 4)\n",
    "print(ufpc.parents)\n",
    "ufpc.union(2, 3)\n",
    "print(ufpc.parents)\n",
    "ufpc.union(1, 2)\n",
    "print(ufpc.parents)\n",
    "ufpc.union(0, 4)\n",
    "print(ufpc.parents)\n",
    "# [0, 1, 2, 3, 3]\n",
    "# [0, 1, 2, 2, 3]\n",
    "# [0, 1, 1, 2, 3]\n",
    "# [0, 0, 1, 1, 1]\n",
    "\n",
    "print([ufpc.find(i) for i in range(5)])\n",
    "# [0, 0, 0, 0, 0]"
   ]
  },
  {
   "cell_type": "markdown",
   "metadata": {},
   "source": [
    "# ランク\n",
    "木の高さの情報を保存しておき、併合する際に低い方を高い方の親の値にする\n",
    "\n",
    "union()でランクを元に併合する。ランクが同じグループを併合する場合は親（根が変わらない方）のランクを1増やす。"
   ]
  },
  {
   "cell_type": "code",
   "execution_count": 13,
   "metadata": {},
   "outputs": [],
   "source": [
    "class UnionFindByRank():\n",
    "    def __init__(self, n):\n",
    "        self.parents = list(range(n))\n",
    "        self.rank = [0] * n\n",
    "    \n",
    "    def find(self, x):\n",
    "        if self.parents[x] == x:\n",
    "            return x\n",
    "        else:\n",
    "            self.parents[x] = self.find(self.parents[x])\n",
    "            return self.parents[x]\n",
    "    \n",
    "    def union(self, x, y):\n",
    "        x = self.find(x)\n",
    "        y = self.find(y)\n",
    "\n",
    "        if x == y:\n",
    "            return\n",
    "        \n",
    "        if self.rank[x] < self.rank[y]:\n",
    "            self.parents[x] = y\n",
    "        else:\n",
    "            self.parents[y] = x\n",
    "            if self.rank[x] == self.rank[y]:\n",
    "                self.rank[x] += 1"
   ]
  },
  {
   "cell_type": "code",
   "execution_count": 14,
   "metadata": {},
   "outputs": [
    {
     "name": "stdout",
     "output_type": "stream",
     "text": [
      "[0, 1, 2, 3, 4]\n",
      "[0, 1, 2, 3, 3]\n",
      "[0, 1, 3, 3, 3]\n",
      "[0, 3, 3, 3, 3]\n",
      "[3, 3, 3, 3, 3]\n"
     ]
    }
   ],
   "source": [
    "ufbr = UnionFindByRank(5)\n",
    "print(ufbr.parents)\n",
    "# [0, 1, 2, 3, 4]\n",
    "\n",
    "ufbr.union(3, 4)\n",
    "print(ufbr.parents)\n",
    "ufbr.union(2, 3)\n",
    "print(ufbr.parents)\n",
    "ufbr.union(1, 2)\n",
    "print(ufbr.parents)\n",
    "ufbr.union(0, 4)\n",
    "print(ufbr.parents)\n",
    "# [0, 1, 2, 3, 3]\n",
    "# [0, 1, 3, 3, 3]\n",
    "# [0, 3, 3, 3, 3]\n",
    "# [3, 3, 3, 3, 3]"
   ]
  },
  {
   "cell_type": "code",
   "execution_count": 15,
   "metadata": {},
   "outputs": [],
   "source": [
    "class UnionFindBySize():\n",
    "    def __init__(self, n):\n",
    "        self.parents = list(range(n))\n",
    "        self.size = [1] * n\n",
    "    def find(self, x):\n",
    "        if self.parents[x] == x:\n",
    "            return x\n",
    "        else:\n",
    "            self.parents[x] = self.find(self.parents[x])\n",
    "            return self.parents[x]\n",
    "    def union(self, x, y):\n",
    "        x = self.find(x)\n",
    "        y = self.find(y)\n",
    "\n",
    "        if x == y:\n",
    "            return\n",
    "        \n",
    "        if self.size[x] < self.size[y]:\n",
    "            self.size[y] += self.size[x]\n",
    "            self.parents[x] = y\n",
    "        else:\n",
    "            self.size[x] += self.size[y]\n",
    "            self.parents[y] = x\n",
    "            "
   ]
  },
  {
   "cell_type": "code",
   "execution_count": 16,
   "metadata": {},
   "outputs": [
    {
     "name": "stdout",
     "output_type": "stream",
     "text": [
      "[0, 1, 2, 3, 4]\n",
      "[0, 1, 2, 3, 3]\n",
      "[0, 1, 3, 3, 3]\n",
      "[0, 3, 3, 3, 3]\n",
      "[3, 3, 3, 3, 3]\n"
     ]
    }
   ],
   "source": [
    "ufbs = UnionFindBySize(5)\n",
    "print(ufbs.parents)\n",
    "# [0, 1, 2, 3, 4]\n",
    "\n",
    "ufbs.union(3, 4)\n",
    "print(ufbs.parents)\n",
    "ufbs.union(2, 3)\n",
    "print(ufbs.parents)\n",
    "ufbs.union(1, 2)\n",
    "print(ufbs.parents)\n",
    "ufbs.union(0, 4)\n",
    "print(ufbs.parents)\n",
    "# [0, 1, 2, 3, 3]\n",
    "# [0, 1, 3, 3, 3]\n",
    "# [0, 3, 3, 3, 3]\n",
    "# [3, 3, 3, 3, 3]"
   ]
  },
  {
   "cell_type": "code",
   "execution_count": 17,
   "metadata": {},
   "outputs": [],
   "source": [
    "class UnionFind():\n",
    "    def __init__(self, n):\n",
    "        self.parents = [-1] * n\n",
    "    def find(self, x):\n",
    "        if self.parents[x] < 0:\n",
    "            return x\n",
    "        else:\n",
    "            self.parents[x] = self.find(self.parents[x])\n",
    "            return self.parents[x]\n",
    "    def union(self, x, y):\n",
    "        x = self.find(x)\n",
    "        y = self.find(y)\n",
    "        if x == y:\n",
    "            return\n",
    "        if self.parents[x] > self.parents[y]:\n",
    "            x, y = y, x\n",
    "        \n",
    "        self.parents[x] += self.parents[y]\n",
    "        self.parents[y] = x"
   ]
  },
  {
   "cell_type": "code",
   "execution_count": 18,
   "metadata": {},
   "outputs": [
    {
     "name": "stdout",
     "output_type": "stream",
     "text": [
      "[-1, -1, -1, -1, -1]\n",
      "[-1, -1, -1, -2, 3]\n",
      "[-1, -1, 3, -3, 3]\n",
      "[-1, 3, 3, -4, 3]\n",
      "[3, 3, 3, -5, 3]\n"
     ]
    }
   ],
   "source": [
    "uf = UnionFind(5)\n",
    "print(uf.parents)\n",
    "# [-1, -1, -1, -1, -1]\n",
    "\n",
    "uf.union(3, 4)\n",
    "print(uf.parents)\n",
    "uf.union(2, 3)\n",
    "print(uf.parents)\n",
    "uf.union(1, 2)\n",
    "print(uf.parents)\n",
    "uf.union(0, 4)\n",
    "print(uf.parents)\n",
    "# [-1, -1, -1, -2, 3]\n",
    "# [-1, -1, 3, -3, 3]\n",
    "# [-1, 3, 3, -4, 3]\n",
    "# [3, 3, 3, -5, 3]\n"
   ]
  },
  {
   "cell_type": "code",
   "execution_count": null,
   "metadata": {},
   "outputs": [],
   "source": []
  }
 ],
 "metadata": {
  "kernelspec": {
   "display_name": "Python 3.8.10 ('env_algo': venv)",
   "language": "python",
   "name": "python3"
  },
  "language_info": {
   "codemirror_mode": {
    "name": "ipython",
    "version": 3
   },
   "file_extension": ".py",
   "mimetype": "text/x-python",
   "name": "python",
   "nbconvert_exporter": "python",
   "pygments_lexer": "ipython3",
   "version": "3.8.10 (default, Sep 28 2021, 16:10:42) \n[GCC 9.3.0]"
  },
  "orig_nbformat": 4,
  "vscode": {
   "interpreter": {
    "hash": "6140eab83e3ebb4373f498d282de9ac3868fe7d634d9b7acec4fd5c001a91c78"
   }
  }
 },
 "nbformat": 4,
 "nbformat_minor": 2
}
