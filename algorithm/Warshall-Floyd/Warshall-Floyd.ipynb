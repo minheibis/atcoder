{
 "cells": [
  {
   "cell_type": "code",
   "execution_count": null,
   "metadata": {},
   "outputs": [],
   "source": []
  }
 ],
 "metadata": {
  "kernelspec": {
   "display_name": "Python 3.8.10 ('env_algo': venv)",
   "language": "python",
   "name": "python3"
  },
  "language_info": {
   "name": "python",
   "version": "3.8.10"
  },
  "orig_nbformat": 4,
  "vscode": {
   "interpreter": {
    "hash": "6140eab83e3ebb4373f498d282de9ac3868fe7d634d9b7acec4fd5c001a91c78"
   }
  }
 },
 "nbformat": 4,
 "nbformat_minor": 2
}
