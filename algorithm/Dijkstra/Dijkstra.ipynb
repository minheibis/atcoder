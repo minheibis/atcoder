{
 "cells": [
  {
   "cell_type": "markdown",
   "metadata": {},
   "source": [
    "Pythonで学ぶアルゴリズム 第25弾：ダイクストラ法\n",
    "\n",
    "参考：https://qiita.com/Yuya-Shimizu/items/eefdc6f854534e90c988"
   ]
  },
  {
   "cell_type": "markdown",
   "metadata": {},
   "source": [
    "これは，ある地点までのコスト，つまりある列に2つ以上の丸が付けられたとき最小のものだけを扱うということを意味する．ゆえに，ばつのつけられている列には2つ以上の丸があることが分かる．"
   ]
  },
  {
   "cell_type": "code",
   "execution_count": null,
   "metadata": {},
   "outputs": [],
   "source": [
    "def dijkstra(edges, num_node):\n",
    "    \"\"\" 経路の表現\n",
    "            [終点, 辺の値]\n",
    "            A, B, C, D, ... → 0, 1, 2, ...とする\n",
    "    \"\"\"\n",
    "    node = [float('inf')] * num_node    #スタート地点以外の値は∞で初期化\n",
    "    node[0] = 0     #スタートは0で初期化\n",
    "\n",
    "    node_name = [i for i in range(num_node)]     #ノードの名前を0~ノードの数で表す\n",
    "\n",
    "    while len(node_name) > 0:\n",
    "        r = node_name[0]\n",
    "\n",
    "        #最もコストが小さい頂点を探す\n",
    "        for i in node_name:\n",
    "            if  node[i] < node[r]:\n",
    "                r = i   #コストが小さい頂点が見つかると更新\n",
    "\n",
    "        #最もコストが小さい頂点を取り出す\n",
    "        min_point = node_name.pop(node_name.index(r))\n",
    "\n",
    "        #経路の要素を各変数に格納することで，視覚的に見やすくする\n",
    "        for factor in edges[min_point]:\n",
    "            goal = factor[0]   #終点\n",
    "            cost = factor[1]   #コスト\n",
    "\n",
    "            #更新条件\n",
    "            if node[min_point] + cost < node[goal]:\n",
    "                node[goal] = node[min_point] + cost     #更新\n",
    "\n",
    "    return node"
   ]
  },
  {
   "cell_type": "code",
   "execution_count": null,
   "metadata": {},
   "outputs": [
    {
     "name": "stdout",
     "output_type": "stream",
     "text": [
      "'目的地:そこまでの最小コスト'\n",
      "\n",
      "['A : 0', 'B : 4', 'C : 3', 'D : 5', 'E : 6', 'F : 5', 'G : 8']\n"
     ]
    }
   ],
   "source": [
    "Edges = [\n",
    "    [[1, 4], [2, 3]],             # ← 頂点Aからの辺のリスト\n",
    "    [[2, 1], [3, 1], [4, 5]],   # ← 頂点Bからの辺のリスト\n",
    "    [[5, 2]],                       # ← 頂点Cからの辺のリスト\n",
    "    [[4, 3]],                       # ← 頂点Dからの辺のリスト\n",
    "    [[6, 2]],                       # ← 頂点Eからの辺のリスト\n",
    "    [[4, 1], [6, 4]],             # ← 頂点Fからの辺のリスト\n",
    "    []                                # ← 頂点Gからの辺のリスト\n",
    "]\n",
    "\n",
    "#今の目的地の数は7つ（0~6: A~G）\n",
    "node_num = 7\n",
    "\n",
    "opt_node = dijkstra(Edges, node_num)\n",
    "\n",
    "#以下は結果を整理するためのコード\n",
    "node_name = []\n",
    "for i in range(node_num):\n",
    "    node_name.append(chr(ord('A') + i))    \n",
    "result = []\n",
    "for i in range(len(opt_node)):\n",
    "    result.append(f\"{node_name[i]} : {opt_node[i]}\")\n",
    "print(f\"'目的地:そこまでの最小コスト'\\n\\n{result}\")"
   ]
  },
  {
   "cell_type": "markdown",
   "metadata": {},
   "source": [
    "# 実装３：ダイクストラ法: 経路を記録する\n",
    "今までのものは，ある地点での最小コストしか示しておらず，実際の経路は出力できていない．したがって，次はダイクストラ法において，経路を記録するプログラムである．そのソースコードとそのときの出力を以下に示す．"
   ]
  },
  {
   "cell_type": "code",
   "execution_count": null,
   "metadata": {},
   "outputs": [],
   "source": [
    "import heapq\n",
    "\n",
    "def dijkstra(edges, num_node, goal):\n",
    "    node = [float(\"inf\")] * num_node\n",
    "    node[0] = 0\n",
    "    node_name = []\n",
    "    heapq.heappush(node_name, [0, [0]])\n",
    "\n",
    "    while len(node_name) > 0:\n",
    "        # ヒープから取り出し\n",
    "        _, min_point = heapq.heappop(node_name)\n",
    "        last = min_point[-1]\n",
    "        if last == goal:\n",
    "            return min_point, node\n",
    "        \n",
    "        for factor in edges[last]:\n",
    "            goal = factor[0] # 終点\n",
    "            cost = factor[1] # コスト\n",
    "\n",
    "            # 更新条件\n",
    "            if node[last] + cost < node[goal]:\n",
    "                node[goal] = node[last] + cost\n",
    "                heapq.heappush(node_name, [node[goal], min_point + [goal]])"
   ]
  },
  {
   "cell_type": "code",
   "execution_count": null,
   "metadata": {},
   "outputs": [],
   "source": []
  }
 ],
 "metadata": {
  "interpreter": {
   "hash": "aee8b7b246df8f9039afb4144a1f6fd8d2ca17a180786b69acc140d282b71a49"
  },
  "kernelspec": {
   "display_name": "Python 3.9.7 64-bit",
   "language": "python",
   "name": "python3"
  },
  "language_info": {
   "codemirror_mode": {
    "name": "ipython",
    "version": 3
   },
   "file_extension": ".py",
   "mimetype": "text/x-python",
   "name": "python",
   "nbconvert_exporter": "python",
   "pygments_lexer": "ipython3",
   "version": "3.9.7"
  },
  "orig_nbformat": 4
 },
 "nbformat": 4,
 "nbformat_minor": 2
}
